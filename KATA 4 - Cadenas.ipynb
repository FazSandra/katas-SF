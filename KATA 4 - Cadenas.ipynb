{
 "cells": [
  {
   "cell_type": "markdown",
   "metadata": {},
   "source": [
    "Ejercicio 1: Transformar cadenas."
   ]
  },
  {
   "cell_type": "code",
   "execution_count": 6,
   "metadata": {},
   "outputs": [
    {
     "name": "stdout",
     "output_type": "stream",
     "text": [
      "Interesting facts about the Moon. The Moon is Earth's only satellite. There are several interesting facts about the Moon and how it affects life here on Earth. \n",
      "On average, the Moon moves 4cm away from the Earth every year. This yearly drift is not significant enough to cause immediate effects on Earth. The highest dayl\n",
      " \n",
      "interesting facts about the moon. the moon is earth's only satellite. there are several interesting facts about the moon and how it affects life here on earth. \n",
      "on average, the moon moves 4cm away from the earth every year. this yearly drift is not significant enough to cause immediate effects on earth. the highest dayl\n",
      "\n",
      "['interesting', 'facts', 'about', 'the', 'moon.', 'the', 'moon', 'is', \"earth's\", 'only', 'satellite.', 'there', 'are', 'several', 'interesting', 'facts', 'about', 'the', 'moon', 'and', 'how', 'it', 'affects', 'life', 'here', 'on', 'earth.', 'on', 'average,', 'the', 'moon', 'moves', '4cm', 'away', 'from', 'the', 'earth', 'every', 'year.', 'this', 'yearly', 'drift', 'is', 'not', 'significant', 'enough', 'to', 'cause', 'immediate', 'effects', 'on', 'earth.', 'the', 'highest', 'dayl']\n",
      " \n",
      "['average', 'temperature', 'distance']\n",
      "\n",
      "average\n"
     ]
    }
   ],
   "source": [
    "# DIVIDIR EL SIGUIENTE TEXTO EN CADA ORACIÓN PARA TRABAJAR CON SU CONTENIDO\n",
    "text = '''Interesting facts about the Moon. The Moon is Earth's only satellite. There are several interesting facts about the Moon and how it affects life here on Earth. \n",
    "On average, the Moon moves 4cm away from the Earth every year. This yearly drift is not significant enough to cause immediate effects on Earth. The highest dayl'''\n",
    "print(text)\n",
    "\n",
    "print(\"\"\" \"\"\")#Creación de espacio entre prints\n",
    "\n",
    "#lower() para conertir en minnusculas todas las palabras\n",
    "text1 = text.lower() \n",
    "print(text1)\n",
    "\n",
    "print('')#Creación de espacio entre prints\n",
    "\n",
    "#para dividir el text se usa split(), y swe guardara en otra cadena\n",
    "text2 = text1.split() \n",
    "print(text2)\n",
    "\n",
    "print(\"\"\" \"\"\") #espacio\n",
    "#DEFINIR ALGUNAS PALABRAS CLAE PARA BUSQUEDA QUE AYUDARAN A DETERMINAR SI UNA ORACIÓN CONTIENE UN HECHO\n",
    "# Define las palabras pista: average, temperature y distance \n",
    "palabras_clave=['average','temperature','distance']\n",
    "print(palabras_clave)\n",
    "\n",
    "print('')\n",
    "text3 = [] #se crea la cadena que almacene el valor de text2, cuando text2 se modifica\n",
    "busqueda=[] # al igual que se crea la cadena text3 se crea busqueda para almacenar las palabras buscadas\n",
    "\n",
    "for text3 in text2: #se hace este for para poner valores en la cadena de text3 de la cadena text2\n",
    "    for busqueda in palabras_clave: #este for  ponemos los valores de palabras_clave en busqueda\n",
    "        # se utiliza en for anidado para no estar buscando manualmente el valor\n",
    "        if busqueda in text3: #despues de que se usan los for, el if se utiliza como comparación para conocer si en el research del bucle, se encuentra el valor de palabras_clave el la cadena text3\n",
    "            print(busqueda) # de esta manera se imprime cual de las palabras clave se encuentra en la cadena text3\n",
    "            break\n",
    "\n",
    "\n"
   ]
  },
  {
   "cell_type": "markdown",
   "metadata": {},
   "source": [
    "EJERCICO 2: FORMATEANDO CADENAS"
   ]
  },
  {
   "cell_type": "code",
   "execution_count": null,
   "metadata": {},
   "outputs": [],
   "source": [
    "#En este ejercicio, se utilizan variables que contienen datos clave sobre la gravedad en varias lunas y luego se utilizan para dar formato e imprimir la información.\n",
    "#El formato tiene que acomodar información sobre otras lunas, por lo que debe ser genérico.\n",
    "#En lugar de reemplazar las variables en una cadena larga como parte de un párrafo, utiliza la información para presentarla en un formato tabular. "
   ]
  },
  {
   "cell_type": "code",
   "execution_count": 60,
   "metadata": {},
   "outputs": [
    {
     "name": "stdout",
     "output_type": "stream",
     "text": [
      "                              La Gravedad De Marte                               nombre del planeta : earth\"\n",
      "\"Gavedad en marte = 1.6199999999999999\n"
     ]
    }
   ],
   "source": [
    "#DATOS A UTILIZAR\n",
    "name = \"Moon\"\n",
    "gravity = 0.00162 # in kms\n",
    "planet = \"Earth\"\n",
    "\n",
    "#Primero, crea un título para el texto. \n",
    "titulo =f'La gravedad de {name}'.capitalize() #Capitalize es para que sea titulo\n",
    "#print(titulo.center(80),'-'*140)#centrar el titulo\n",
    "\n",
    "plantilla =f' nombre del planeta : {planet}' \n",
    "#print(plantilla)\n",
    "palntilla2 =f'Gavedad en {name} = {gravity*1000}'\n",
    "#print(palntilla2)\n",
    "\n",
    "union = f'{titulo.title().center(80)}{plantilla.capitalize()}\"\\n\"{palntilla2}'\n",
    "print(union)"
   ]
  }
 ],
 "metadata": {
  "interpreter": {
   "hash": "fb6f96babefb1e4466daa0535eb3c2ff6de5f23eabffc20359a2bd391909a3d4"
  },
  "kernelspec": {
   "display_name": "Python 3.10.2 64-bit",
   "language": "python",
   "name": "python3"
  },
  "language_info": {
   "codemirror_mode": {
    "name": "ipython",
    "version": 3
   },
   "file_extension": ".py",
   "mimetype": "text/x-python",
   "name": "python",
   "nbconvert_exporter": "python",
   "pygments_lexer": "ipython3",
   "version": "3.10.2"
  },
  "orig_nbformat": 4
 },
 "nbformat": 4,
 "nbformat_minor": 2
}
