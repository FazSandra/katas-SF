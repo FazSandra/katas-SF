{
 "cells": [
  {
   "cell_type": "markdown",
   "metadata": {},
   "source": [
    "Ejercicio 3- Escribir declaraciones if, else, y elif"
   ]
  },
  {
   "cell_type": "code",
   "execution_count": 24,
   "metadata": {},
   "outputs": [
    {
     "name": "stdout",
     "output_type": "stream",
     "text": [
      "¡ALERTA!, Un asteriode se aproxima a la tierra\n"
     ]
    }
   ],
   "source": [
    "#Escribir una lógica condicional que imprima una advertencia si un asteroide se acerca a la Tierra demasiado rápido. \n",
    "#La velocidad del asteroide varía dependiendo de lo cerca que esté del sol y cualquier velocidad superior a 25 kilometros por segundo (km/s)\n",
    "# merece una advertencia.\n",
    "# Un asteroide se acerca y viaja a una velocidad de 49km/s\n",
    "vel_asteroide = 49\n",
    "if vel_asteroide >=25 :\n",
    "    print(\"¡ALERTA!, Un asteriode se aproxima a la tierra\")\n",
    "else:\n",
    "    print(\"No hay amenaza\")"
   ]
  },
  {
   "cell_type": "code",
   "execution_count": 25,
   "metadata": {},
   "outputs": [
    {
     "name": "stdout",
     "output_type": "stream",
     "text": [
      "Observa el asteroide en el cielo\n"
     ]
    }
   ],
   "source": [
    "#Si un asteroide entra a la tierra a una velocidad mayor o igual a 20 km/s, a veces produce un rayo de luz que se puede ver desde la Tierra.\n",
    "#para alertar a las personas de todo el mundo que deben buscar un asteroide en el cielo. ¡Hay uno que se dirige a la tierra ahora a una velocidad de 19 km/s!\n",
    "vel_asteroide = 49\n",
    "if vel_asteroide >= 20:\n",
    "    print(\"Observa el asteroide en el cielo\")\n",
    "elif vel_asteroide == 19:\n",
    "    print(\"Busca en el cielo el asteroide\")\n",
    "else:\n",
    "    print(\"Continua con tu vida :) \")"
   ]
  },
  {
   "cell_type": "markdown",
   "metadata": {},
   "source": [
    "EJERCICIO 3.1: USO DE OPERADORES AND y OR"
   ]
  },
  {
   "cell_type": "code",
   "execution_count": 6,
   "metadata": {},
   "outputs": [
    {
     "name": "stdout",
     "output_type": "stream",
     "text": [
      "Continua con tu vida\n"
     ]
    }
   ],
   "source": [
    "#Para alertar a las personas de todo el mundo que deben buscar un asteroide en el cielo. \n",
    "#¡Hay uno que se dirige a la tierra ahora a una velocidad de 19 km/s!\n",
    "#Si una pieza de un asteroide que es más grande que 25 metros pero más pequeña que 1000 metros golpeara la Tierra, causaría mucho daño.\n",
    "#También discutimos en el ejercicio anterior que:La velocidad del asteroide varía en función de lo cerca que esté del sol, \n",
    "# y cualquier velocidad superior a 25 kilómetros por segundo (km/s) merece una advertencia.\n",
    "# Si un asteroide entra en la atmósfera de la Tierra a una velocidad mayor o igual a 20 km/s, a veces produce un rayo de luz que se puede ver desde la Tierra.\n",
    "velo_asteroide = 19\n",
    "tam_asteroide = 49\n",
    "\n",
    "if velo_asteroide >= 25 and tam_asteroide >= 25:\n",
    "    print (\"¡ALERTA! Un asteroide se acerca\")\n",
    "elif velo_asteroide == 20:\n",
    "    print(\"Busca la Luz en el cielo\") \n",
    "elif velo_asteroide < 20 or tam_asteroide < 25:\n",
    "    print(\"Continua con tu vida\")\n",
    "else:\n",
    "    print(\"El mundo se acaba\")"
   ]
  }
 ],
 "metadata": {
  "interpreter": {
   "hash": "fb6f96babefb1e4466daa0535eb3c2ff6de5f23eabffc20359a2bd391909a3d4"
  },
  "kernelspec": {
   "display_name": "Python 3.10.2 64-bit",
   "language": "python",
   "name": "python3"
  },
  "language_info": {
   "codemirror_mode": {
    "name": "ipython",
    "version": 3
   },
   "file_extension": ".py",
   "mimetype": "text/x-python",
   "name": "python",
   "nbconvert_exporter": "python",
   "pygments_lexer": "ipython3",
   "version": "3.10.2"
  },
  "orig_nbformat": 4
 },
 "nbformat": 4,
 "nbformat_minor": 2
}
